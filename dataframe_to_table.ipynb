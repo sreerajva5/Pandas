{
 "cells": [
  {
   "cell_type": "markdown",
   "metadata": {},
   "source": [
    "# 1. tabulate"
   ]
  },
  {
   "cell_type": "code",
   "execution_count": 1,
   "metadata": {},
   "outputs": [
    {
     "name": "stdout",
     "output_type": "stream",
     "text": [
      "initial dataframe\n",
      "-----------------\n",
      "   col1  col2\n",
      "0     1     5\n",
      "1     2     6\n",
      "2     3     7\n",
      "3     4     8\n",
      "-----------------\n",
      "|   col1 |   col2 |\n",
      "|-------:|-------:|\n",
      "|      1 |      5 |\n",
      "|      2 |      6 |\n",
      "|      3 |      7 |\n",
      "|      4 |      8 |\n"
     ]
    }
   ],
   "source": [
    "# tabulate to make dataframe as table\n",
    "\n",
    "import pandas as pd\n",
    "from tabulate import tabulate\n",
    "\n",
    "dict1 = {'col1':[1,2,3,4], 'col2':[5,6,7,8]}\n",
    "df = pd.DataFrame(dict1)\n",
    "\n",
    "print('initial dataframe')\n",
    "print('-----------------')\n",
    "print(df)\n",
    "print('-----------------')\n",
    "\n",
    "#converting dataframe to table\n",
    "print(tabulate(df, tablefmt=\"pipe\", headers=\"keys\", showindex=None))\n",
    "\n",
    "#its useful to send emails with smaller size dataframe within mail body"
   ]
  },
  {
   "cell_type": "markdown",
   "metadata": {},
   "source": [
    "# 2. beautifultable"
   ]
  },
  {
   "cell_type": "code",
   "execution_count": 2,
   "metadata": {},
   "outputs": [
    {
     "name": "stdout",
     "output_type": "stream",
     "text": [
      "initial dataframe\n",
      "-----------------\n",
      "   col1  col2\n",
      "0     1     5\n",
      "1     2     6\n",
      "2     3     7\n",
      "3     4     8\n",
      "-----------------\n",
      "+------+------+\n",
      "| col1 | col2 |\n",
      "+------+------+\n",
      "|  1   |  5   |\n",
      "+------+------+\n",
      "|  2   |  6   |\n",
      "+------+------+\n",
      "|  3   |  7   |\n",
      "+------+------+\n",
      "|  4   |  8   |\n",
      "+------+------+\n"
     ]
    }
   ],
   "source": [
    "# beautifultable to make dataframe as table\n",
    "\n",
    "import pandas as pd\n",
    "from beautifultable import BeautifulTable\n",
    "\n",
    "dict1 = {'col1':[1,2,3,4], 'col2':[5,6,7,8]}\n",
    "df = pd.DataFrame(dict1)\n",
    "\n",
    "print('initial dataframe')\n",
    "print('-----------------')\n",
    "print(df)\n",
    "print('-----------------')\n",
    "\n",
    "#converting dataframe to table with beautiful\n",
    "list1 = df.values.tolist()\n",
    "\n",
    "from beautifultable import BeautifulTable\n",
    "table = BeautifulTable()\n",
    "\n",
    "table.columns.header = ['col1', 'col2']\n",
    "\n",
    "for i in list1:\n",
    "    table.rows.append(i)\n",
    "    \n",
    "print(table)"
   ]
  }
 ],
 "metadata": {
  "kernelspec": {
   "display_name": "Python 3",
   "language": "python",
   "name": "python3"
  },
  "language_info": {
   "codemirror_mode": {
    "name": "ipython",
    "version": 3
   },
   "file_extension": ".py",
   "mimetype": "text/x-python",
   "name": "python",
   "nbconvert_exporter": "python",
   "pygments_lexer": "ipython3",
   "version": "3.8.3"
  }
 },
 "nbformat": 4,
 "nbformat_minor": 4
}
