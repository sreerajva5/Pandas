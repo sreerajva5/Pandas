{
 "cells": [
  {
   "cell_type": "code",
   "execution_count": 11,
   "metadata": {},
   "outputs": [],
   "source": [
    "import pandas as pd\n",
    "#pd.set_option('display.max_rows', 500)\n",
    "#pd.set_option('display.max_columns', 500)\n",
    "# pd.set_option('display.width', 1000)\n",
    "# pd.set_option('display.width', 1000)\n",
    "pd.set_option('display.max_colwidth', 1000)\n"
   ]
  },
  {
   "cell_type": "code",
   "execution_count": 27,
   "metadata": {},
   "outputs": [],
   "source": [
    "df = pd.read_csv('data_explode.csv')  # uploading the data into dataframe"
   ]
  },
  {
   "cell_type": "code",
   "execution_count": 28,
   "metadata": {},
   "outputs": [
    {
     "data": {
      "text/html": [
       "<div>\n",
       "<style scoped>\n",
       "    .dataframe tbody tr th:only-of-type {\n",
       "        vertical-align: middle;\n",
       "    }\n",
       "\n",
       "    .dataframe tbody tr th {\n",
       "        vertical-align: top;\n",
       "    }\n",
       "\n",
       "    .dataframe thead th {\n",
       "        text-align: right;\n",
       "    }\n",
       "</style>\n",
       "<table border=\"1\" class=\"dataframe\">\n",
       "  <thead>\n",
       "    <tr style=\"text-align: right;\">\n",
       "      <th></th>\n",
       "      <th>IP</th>\n",
       "      <th>mount</th>\n",
       "    </tr>\n",
       "  </thead>\n",
       "  <tbody>\n",
       "    <tr>\n",
       "      <th>0</th>\n",
       "      <td>1.1.1.11</td>\n",
       "      <td>1.2.32.12:/xyz7 on /storage-1 type  (rw,vers=3,proto=tcp,nolock,addr=1.2.32.12)\\n1.2.32.12:/xyz10 on /storage-2 type  (rw,vers=3,proto=tcp,nolock,addr=1.2.32.12)\\n1.2.32.12:/xyz11 on /storage-3 type  (rw,vers=3,proto=tcp,nolock,addr=1.2.32.12)\\n1.2.32.12:/xyz6 on /storage-4 type  (rw,vers=3,proto=tcp,nolock,addr=1.2.32.12)\\n1.1.132.15:/abcd_storage7 on /abcd-storage7 type  (rw,vers=3,proto=tcp,nolock,addr=1.1.132.15)\\n1.1.132.15:/abcd_storage1 on /abcd-storage1 type  (rw,vers=3,proto=tcp,nolock,addr=1.1.132.15)\\n1.1.132.15:/abcd_storage2 on /abcd-storage2 type  (rw,vers=3,proto=tcp,nolock,addr=1.1.132.15)\\n1.1.132.15:/abcd_storage3 on /abcd-storage3 type  (rw,vers=3,proto=tcp,nolock,addr=1.1.132.15)\\n1.1.132.15:/abcd_storage4 on /abcd-storage4 type  (rw,vers=3,proto=tcp,nolock,addr=1.1.132.15)\\n1.1.132.15:/abcd_storage5 on /abcd-storage5 type  (rw,vers=3,proto=tcp,nolock,addr=1.1.132.15)\\n1.1.132.15:/abcd_storage6 on /abcd-storage6 type  (rw,vers=3,proto=tcp,nolock,addr=1.1.132.15)...</td>\n",
       "    </tr>\n",
       "    <tr>\n",
       "      <th>1</th>\n",
       "      <td>1.1.1.12</td>\n",
       "      <td>1.2.10.210:/PQRST_186VOL01 on /video-assets-vol1 type  (rw,addr=1.2.10.210)\\n1.2.32.252:/PQRST_185VOL01 on /dh type  (rw,vers=4,addr=1.2.32.252,clientaddr=1.2.39.134)\\n1.2.10.210:/PQRST_BRIC9_VOL01 on /video-assets-vol2 type  (rw,vers=3,proto=tcp,nolock,addr=1.2.10.210)\\n1.1.132.15:/abcd-vt-logs on /vt-logs type  (rw,addr=1.1.132.15)\\n1.2.10.210:/PQRST_186VOL03 on /video-assets-vol3 type  (rw,vers=4,proto=tcp,nolock,addr=1.2.10.210,clientaddr=1.2.10.129)\\n1.2.10.210:/PQRST_185_186VOL05 on /recrawl type  (rw,vers=4,proto=tcp,nolock,addr=1.2.10.210,clientaddr=1.2.10.129)\\n1.2.32.252:/PQRST_BRIC9_TEMPSTOR/ on /vt type  (rw,vers=4,addr=1.2.32.252,clientaddr=1.2.39.134)\\n1.2.10.210:/PQRST_186VOL04 on /video-assets-vol4 type  (rw,vers=4,proto=tcp,nolock,addr=1.2.10.210,clientaddr=1.2.10.129)\\n1.2.10.210:/PQRST_VMVOL03 on /video-assets-vol5 type  (rw,vers=4,proto=tcp,nolock,addr=1.2.10.210,clientaddr=1.2.10.129)\\n1.2.10.210:/PQRST_VMVOL04 on /video-assets-vol7 type  (rw,vers=4,proto=tcp,n...</td>\n",
       "    </tr>\n",
       "    <tr>\n",
       "      <th>2</th>\n",
       "      <td>1.1.1.17</td>\n",
       "      <td>1.2.32.12:/xyz18 on /locationservice type  (rw,vers=3,proto=tcp,nolock,addr=1.2.32.12)\\n1.2.10.210:/PQRST_VMVOL08 on /data type  (rw,vers=4,proto=tcp,nolock,addr=1.2.10.210,clientaddr=1.2.10.244)</td>\n",
       "    </tr>\n",
       "  </tbody>\n",
       "</table>\n",
       "</div>"
      ],
      "text/plain": [
       "         IP  \\\n",
       "0  1.1.1.11   \n",
       "1  1.1.1.12   \n",
       "2  1.1.1.17   \n",
       "\n",
       "                                                                                                                                                                                                                                                                                                                                                                                                                                                                                                                                                                                                                                                                                                                                                                                                                                                                                                                                                                                                                                     mount  \n",
       "0  1.2.32.12:/xyz7 on /storage-1 type  (rw,vers=3,proto=tcp,nolock,addr=1.2.32.12)\\n1.2.32.12:/xyz10 on /storage-2 type  (rw,vers=3,proto=tcp,nolock,addr=1.2.32.12)\\n1.2.32.12:/xyz11 on /storage-3 type  (rw,vers=3,proto=tcp,nolock,addr=1.2.32.12)\\n1.2.32.12:/xyz6 on /storage-4 type  (rw,vers=3,proto=tcp,nolock,addr=1.2.32.12)\\n1.1.132.15:/abcd_storage7 on /abcd-storage7 type  (rw,vers=3,proto=tcp,nolock,addr=1.1.132.15)\\n1.1.132.15:/abcd_storage1 on /abcd-storage1 type  (rw,vers=3,proto=tcp,nolock,addr=1.1.132.15)\\n1.1.132.15:/abcd_storage2 on /abcd-storage2 type  (rw,vers=3,proto=tcp,nolock,addr=1.1.132.15)\\n1.1.132.15:/abcd_storage3 on /abcd-storage3 type  (rw,vers=3,proto=tcp,nolock,addr=1.1.132.15)\\n1.1.132.15:/abcd_storage4 on /abcd-storage4 type  (rw,vers=3,proto=tcp,nolock,addr=1.1.132.15)\\n1.1.132.15:/abcd_storage5 on /abcd-storage5 type  (rw,vers=3,proto=tcp,nolock,addr=1.1.132.15)\\n1.1.132.15:/abcd_storage6 on /abcd-storage6 type  (rw,vers=3,proto=tcp,nolock,addr=1.1.132.15)...  \n",
       "1  1.2.10.210:/PQRST_186VOL01 on /video-assets-vol1 type  (rw,addr=1.2.10.210)\\n1.2.32.252:/PQRST_185VOL01 on /dh type  (rw,vers=4,addr=1.2.32.252,clientaddr=1.2.39.134)\\n1.2.10.210:/PQRST_BRIC9_VOL01 on /video-assets-vol2 type  (rw,vers=3,proto=tcp,nolock,addr=1.2.10.210)\\n1.1.132.15:/abcd-vt-logs on /vt-logs type  (rw,addr=1.1.132.15)\\n1.2.10.210:/PQRST_186VOL03 on /video-assets-vol3 type  (rw,vers=4,proto=tcp,nolock,addr=1.2.10.210,clientaddr=1.2.10.129)\\n1.2.10.210:/PQRST_185_186VOL05 on /recrawl type  (rw,vers=4,proto=tcp,nolock,addr=1.2.10.210,clientaddr=1.2.10.129)\\n1.2.32.252:/PQRST_BRIC9_TEMPSTOR/ on /vt type  (rw,vers=4,addr=1.2.32.252,clientaddr=1.2.39.134)\\n1.2.10.210:/PQRST_186VOL04 on /video-assets-vol4 type  (rw,vers=4,proto=tcp,nolock,addr=1.2.10.210,clientaddr=1.2.10.129)\\n1.2.10.210:/PQRST_VMVOL03 on /video-assets-vol5 type  (rw,vers=4,proto=tcp,nolock,addr=1.2.10.210,clientaddr=1.2.10.129)\\n1.2.10.210:/PQRST_VMVOL04 on /video-assets-vol7 type  (rw,vers=4,proto=tcp,n...  \n",
       "2                                                                                                                                                                                                                                                                                                                                                                                                                                                                                                                                                                                                                                                                                                                                                                                                                                      1.2.32.12:/xyz18 on /locationservice type  (rw,vers=3,proto=tcp,nolock,addr=1.2.32.12)\\n1.2.10.210:/PQRST_VMVOL08 on /data type  (rw,vers=4,proto=tcp,nolock,addr=1.2.10.210,clientaddr=1.2.10.244)  "
      ]
     },
     "execution_count": 28,
     "metadata": {},
     "output_type": "execute_result"
    }
   ],
   "source": [
    "df.head(3)"
   ]
  },
  {
   "cell_type": "code",
   "execution_count": 29,
   "metadata": {},
   "outputs": [],
   "source": [
    "df['mount'] = df['mount'].str.split(r'\\\\n')  #splitting with '\\n'"
   ]
  },
  {
   "cell_type": "code",
   "execution_count": 30,
   "metadata": {},
   "outputs": [
    {
     "data": {
      "text/html": [
       "<div>\n",
       "<style scoped>\n",
       "    .dataframe tbody tr th:only-of-type {\n",
       "        vertical-align: middle;\n",
       "    }\n",
       "\n",
       "    .dataframe tbody tr th {\n",
       "        vertical-align: top;\n",
       "    }\n",
       "\n",
       "    .dataframe thead th {\n",
       "        text-align: right;\n",
       "    }\n",
       "</style>\n",
       "<table border=\"1\" class=\"dataframe\">\n",
       "  <thead>\n",
       "    <tr style=\"text-align: right;\">\n",
       "      <th></th>\n",
       "      <th>IP</th>\n",
       "      <th>mount</th>\n",
       "    </tr>\n",
       "  </thead>\n",
       "  <tbody>\n",
       "    <tr>\n",
       "      <th>0</th>\n",
       "      <td>1.1.1.11</td>\n",
       "      <td>[1.2.32.12:/xyz7 on /storage-1 type  (rw,vers=3,proto=tcp,nolock,addr=1.2.32.12), 1.2.32.12:/xyz10 on /storage-2 type  (rw,vers=3,proto=tcp,nolock,addr=1.2.32.12), 1.2.32.12:/xyz11 on /storage-3 type  (rw,vers=3,proto=tcp,nolock,addr=1.2.32.12), 1.2.32.12:/xyz6 on /storage-4 type  (rw,vers=3,proto=tcp,nolock,addr=1.2.32.12), 1.1.132.15:/abcd_storage7 on /abcd-storage7 type  (rw,vers=3,proto=tcp,nolock,addr=1.1.132.15), 1.1.132.15:/abcd_storage1 on /abcd-storage1 type  (rw,vers=3,proto=tcp,nolock,addr=1.1.132.15), 1.1.132.15:/abcd_storage2 on /abcd-storage2 type  (rw,vers=3,proto=tcp,nolock,addr=1.1.132.15), 1.1.132.15:/abcd_storage3 on /abcd-storage3 type  (rw,vers=3,proto=tcp,nolock,addr=1.1.132.15), 1.1.132.15:/abcd_storage4 on /abcd-storage4 type  (rw,vers=3,proto=tcp,nolock,addr=1.1.132.15), 1.1.132.15:/abcd_storage5 on /abcd-storage5 type  (rw,vers=3,proto=tcp,nolock,addr=1.1.132.15), 1.1.132.15:/abcd_storage6 on /abcd-storage6 type  (rw,vers=3,proto=tcp,nolock,addr=1.1.132.15...</td>\n",
       "    </tr>\n",
       "    <tr>\n",
       "      <th>1</th>\n",
       "      <td>1.1.1.12</td>\n",
       "      <td>[1.2.10.210:/PQRST_186VOL01 on /video-assets-vol1 type  (rw,addr=1.2.10.210), 1.2.32.252:/PQRST_185VOL01 on /dh type  (rw,vers=4,addr=1.2.32.252,clientaddr=1.2.39.134), 1.2.10.210:/PQRST_BRIC9_VOL01 on /video-assets-vol2 type  (rw,vers=3,proto=tcp,nolock,addr=1.2.10.210), 1.1.132.15:/abcd-vt-logs on /vt-logs type  (rw,addr=1.1.132.15), 1.2.10.210:/PQRST_186VOL03 on /video-assets-vol3 type  (rw,vers=4,proto=tcp,nolock,addr=1.2.10.210,clientaddr=1.2.10.129), 1.2.10.210:/PQRST_185_186VOL05 on /recrawl type  (rw,vers=4,proto=tcp,nolock,addr=1.2.10.210,clientaddr=1.2.10.129), 1.2.32.252:/PQRST_BRIC9_TEMPSTOR/ on /vt type  (rw,vers=4,addr=1.2.32.252,clientaddr=1.2.39.134), 1.2.10.210:/PQRST_186VOL04 on /video-assets-vol4 type  (rw,vers=4,proto=tcp,nolock,addr=1.2.10.210,clientaddr=1.2.10.129), 1.2.10.210:/PQRST_VMVOL03 on /video-assets-vol5 type  (rw,vers=4,proto=tcp,nolock,addr=1.2.10.210,clientaddr=1.2.10.129), 1.2.10.210:/PQRST_VMVOL04 on /video-assets-vol7 type  (rw,vers=4,proto=tcp,...</td>\n",
       "    </tr>\n",
       "  </tbody>\n",
       "</table>\n",
       "</div>"
      ],
      "text/plain": [
       "         IP  \\\n",
       "0  1.1.1.11   \n",
       "1  1.1.1.12   \n",
       "\n",
       "                                                                                                                                                                                                                                                                                                                                                                                                                                                                                                                                                                                                                                                                                                                                                                                                                                                                                                                                                                                                                                     mount  \n",
       "0  [1.2.32.12:/xyz7 on /storage-1 type  (rw,vers=3,proto=tcp,nolock,addr=1.2.32.12), 1.2.32.12:/xyz10 on /storage-2 type  (rw,vers=3,proto=tcp,nolock,addr=1.2.32.12), 1.2.32.12:/xyz11 on /storage-3 type  (rw,vers=3,proto=tcp,nolock,addr=1.2.32.12), 1.2.32.12:/xyz6 on /storage-4 type  (rw,vers=3,proto=tcp,nolock,addr=1.2.32.12), 1.1.132.15:/abcd_storage7 on /abcd-storage7 type  (rw,vers=3,proto=tcp,nolock,addr=1.1.132.15), 1.1.132.15:/abcd_storage1 on /abcd-storage1 type  (rw,vers=3,proto=tcp,nolock,addr=1.1.132.15), 1.1.132.15:/abcd_storage2 on /abcd-storage2 type  (rw,vers=3,proto=tcp,nolock,addr=1.1.132.15), 1.1.132.15:/abcd_storage3 on /abcd-storage3 type  (rw,vers=3,proto=tcp,nolock,addr=1.1.132.15), 1.1.132.15:/abcd_storage4 on /abcd-storage4 type  (rw,vers=3,proto=tcp,nolock,addr=1.1.132.15), 1.1.132.15:/abcd_storage5 on /abcd-storage5 type  (rw,vers=3,proto=tcp,nolock,addr=1.1.132.15), 1.1.132.15:/abcd_storage6 on /abcd-storage6 type  (rw,vers=3,proto=tcp,nolock,addr=1.1.132.15...  \n",
       "1  [1.2.10.210:/PQRST_186VOL01 on /video-assets-vol1 type  (rw,addr=1.2.10.210), 1.2.32.252:/PQRST_185VOL01 on /dh type  (rw,vers=4,addr=1.2.32.252,clientaddr=1.2.39.134), 1.2.10.210:/PQRST_BRIC9_VOL01 on /video-assets-vol2 type  (rw,vers=3,proto=tcp,nolock,addr=1.2.10.210), 1.1.132.15:/abcd-vt-logs on /vt-logs type  (rw,addr=1.1.132.15), 1.2.10.210:/PQRST_186VOL03 on /video-assets-vol3 type  (rw,vers=4,proto=tcp,nolock,addr=1.2.10.210,clientaddr=1.2.10.129), 1.2.10.210:/PQRST_185_186VOL05 on /recrawl type  (rw,vers=4,proto=tcp,nolock,addr=1.2.10.210,clientaddr=1.2.10.129), 1.2.32.252:/PQRST_BRIC9_TEMPSTOR/ on /vt type  (rw,vers=4,addr=1.2.32.252,clientaddr=1.2.39.134), 1.2.10.210:/PQRST_186VOL04 on /video-assets-vol4 type  (rw,vers=4,proto=tcp,nolock,addr=1.2.10.210,clientaddr=1.2.10.129), 1.2.10.210:/PQRST_VMVOL03 on /video-assets-vol5 type  (rw,vers=4,proto=tcp,nolock,addr=1.2.10.210,clientaddr=1.2.10.129), 1.2.10.210:/PQRST_VMVOL04 on /video-assets-vol7 type  (rw,vers=4,proto=tcp,...  "
      ]
     },
     "execution_count": 30,
     "metadata": {},
     "output_type": "execute_result"
    }
   ],
   "source": [
    "df.head(2) #Coverted the column into list"
   ]
  },
  {
   "cell_type": "code",
   "execution_count": 31,
   "metadata": {},
   "outputs": [],
   "source": [
    "df2 = df.explode('mount')   # getting multiple data in list against 1 value to single column"
   ]
  },
  {
   "cell_type": "code",
   "execution_count": 32,
   "metadata": {},
   "outputs": [
    {
     "data": {
      "text/html": [
       "<div>\n",
       "<style scoped>\n",
       "    .dataframe tbody tr th:only-of-type {\n",
       "        vertical-align: middle;\n",
       "    }\n",
       "\n",
       "    .dataframe tbody tr th {\n",
       "        vertical-align: top;\n",
       "    }\n",
       "\n",
       "    .dataframe thead th {\n",
       "        text-align: right;\n",
       "    }\n",
       "</style>\n",
       "<table border=\"1\" class=\"dataframe\">\n",
       "  <thead>\n",
       "    <tr style=\"text-align: right;\">\n",
       "      <th></th>\n",
       "      <th>IP</th>\n",
       "      <th>mount</th>\n",
       "    </tr>\n",
       "  </thead>\n",
       "  <tbody>\n",
       "    <tr>\n",
       "      <th>0</th>\n",
       "      <td>1.1.1.11</td>\n",
       "      <td>1.2.32.12:/xyz7 on /storage-1 type  (rw,vers=3,proto=tcp,nolock,addr=1.2.32.12)</td>\n",
       "    </tr>\n",
       "    <tr>\n",
       "      <th>0</th>\n",
       "      <td>1.1.1.11</td>\n",
       "      <td>1.2.32.12:/xyz10 on /storage-2 type  (rw,vers=3,proto=tcp,nolock,addr=1.2.32.12)</td>\n",
       "    </tr>\n",
       "    <tr>\n",
       "      <th>0</th>\n",
       "      <td>1.1.1.11</td>\n",
       "      <td>1.2.32.12:/xyz11 on /storage-3 type  (rw,vers=3,proto=tcp,nolock,addr=1.2.32.12)</td>\n",
       "    </tr>\n",
       "    <tr>\n",
       "      <th>0</th>\n",
       "      <td>1.1.1.11</td>\n",
       "      <td>1.2.32.12:/xyz6 on /storage-4 type  (rw,vers=3,proto=tcp,nolock,addr=1.2.32.12)</td>\n",
       "    </tr>\n",
       "    <tr>\n",
       "      <th>0</th>\n",
       "      <td>1.1.1.11</td>\n",
       "      <td>1.1.132.15:/abcd_storage7 on /abcd-storage7 type  (rw,vers=3,proto=tcp,nolock,addr=1.1.132.15)</td>\n",
       "    </tr>\n",
       "  </tbody>\n",
       "</table>\n",
       "</div>"
      ],
      "text/plain": [
       "         IP                                                                                           mount\n",
       "0  1.1.1.11                 1.2.32.12:/xyz7 on /storage-1 type  (rw,vers=3,proto=tcp,nolock,addr=1.2.32.12)\n",
       "0  1.1.1.11                1.2.32.12:/xyz10 on /storage-2 type  (rw,vers=3,proto=tcp,nolock,addr=1.2.32.12)\n",
       "0  1.1.1.11                1.2.32.12:/xyz11 on /storage-3 type  (rw,vers=3,proto=tcp,nolock,addr=1.2.32.12)\n",
       "0  1.1.1.11                 1.2.32.12:/xyz6 on /storage-4 type  (rw,vers=3,proto=tcp,nolock,addr=1.2.32.12)\n",
       "0  1.1.1.11  1.1.132.15:/abcd_storage7 on /abcd-storage7 type  (rw,vers=3,proto=tcp,nolock,addr=1.1.132.15)"
      ]
     },
     "execution_count": 32,
     "metadata": {},
     "output_type": "execute_result"
    }
   ],
   "source": [
    "df2.head(5)"
   ]
  },
  {
   "cell_type": "code",
   "execution_count": 33,
   "metadata": {},
   "outputs": [],
   "source": [
    "df2['mount'] = df2['mount'].map(lambda x: x.split(' on')[0])  # splitting with ' on' and taking only 0th index of the list"
   ]
  },
  {
   "cell_type": "code",
   "execution_count": 34,
   "metadata": {},
   "outputs": [],
   "source": [
    "df2.to_csv('sliced_data_explode.csv')"
   ]
  },
  {
   "cell_type": "code",
   "execution_count": 35,
   "metadata": {},
   "outputs": [
    {
     "data": {
      "text/html": [
       "<div>\n",
       "<style scoped>\n",
       "    .dataframe tbody tr th:only-of-type {\n",
       "        vertical-align: middle;\n",
       "    }\n",
       "\n",
       "    .dataframe tbody tr th {\n",
       "        vertical-align: top;\n",
       "    }\n",
       "\n",
       "    .dataframe thead th {\n",
       "        text-align: right;\n",
       "    }\n",
       "</style>\n",
       "<table border=\"1\" class=\"dataframe\">\n",
       "  <thead>\n",
       "    <tr style=\"text-align: right;\">\n",
       "      <th></th>\n",
       "      <th>IP</th>\n",
       "      <th>mount</th>\n",
       "    </tr>\n",
       "  </thead>\n",
       "  <tbody>\n",
       "    <tr>\n",
       "      <th>0</th>\n",
       "      <td>1.1.1.11</td>\n",
       "      <td>1.2.32.12:/xyz7</td>\n",
       "    </tr>\n",
       "    <tr>\n",
       "      <th>0</th>\n",
       "      <td>1.1.1.11</td>\n",
       "      <td>1.2.32.12:/xyz10</td>\n",
       "    </tr>\n",
       "    <tr>\n",
       "      <th>0</th>\n",
       "      <td>1.1.1.11</td>\n",
       "      <td>1.2.32.12:/xyz11</td>\n",
       "    </tr>\n",
       "    <tr>\n",
       "      <th>0</th>\n",
       "      <td>1.1.1.11</td>\n",
       "      <td>1.2.32.12:/xyz6</td>\n",
       "    </tr>\n",
       "    <tr>\n",
       "      <th>0</th>\n",
       "      <td>1.1.1.11</td>\n",
       "      <td>1.1.132.15:/abcd_storage7</td>\n",
       "    </tr>\n",
       "  </tbody>\n",
       "</table>\n",
       "</div>"
      ],
      "text/plain": [
       "         IP                      mount\n",
       "0  1.1.1.11            1.2.32.12:/xyz7\n",
       "0  1.1.1.11           1.2.32.12:/xyz10\n",
       "0  1.1.1.11           1.2.32.12:/xyz11\n",
       "0  1.1.1.11            1.2.32.12:/xyz6\n",
       "0  1.1.1.11  1.1.132.15:/abcd_storage7"
      ]
     },
     "execution_count": 35,
     "metadata": {},
     "output_type": "execute_result"
    }
   ],
   "source": [
    "df2.head()"
   ]
  },
  {
   "cell_type": "code",
   "execution_count": null,
   "metadata": {},
   "outputs": [],
   "source": []
  }
 ],
 "metadata": {
  "kernelspec": {
   "display_name": "Python 3",
   "language": "python",
   "name": "python3"
  },
  "language_info": {
   "codemirror_mode": {
    "name": "ipython",
    "version": 3
   },
   "file_extension": ".py",
   "mimetype": "text/x-python",
   "name": "python",
   "nbconvert_exporter": "python",
   "pygments_lexer": "ipython3",
   "version": "3.6.5"
  }
 },
 "nbformat": 4,
 "nbformat_minor": 2
}
